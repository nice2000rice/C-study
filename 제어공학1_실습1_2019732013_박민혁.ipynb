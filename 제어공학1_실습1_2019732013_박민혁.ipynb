{
  "nbformat": 4,
  "nbformat_minor": 0,
  "metadata": {
    "colab": {
      "provenance": [],
      "authorship_tag": "ABX9TyPPwX5+UBu7WMMQbb8MNddR",
      "include_colab_link": true
    },
    "kernelspec": {
      "name": "python3",
      "display_name": "Python 3"
    },
    "language_info": {
      "name": "python"
    }
  },
  "cells": [
    {
      "cell_type": "markdown",
      "metadata": {
        "id": "view-in-github",
        "colab_type": "text"
      },
      "source": [
        "<a href=\"https://colab.research.google.com/github/nice2000rice/C-study/blob/main/%EC%A0%9C%EC%96%B4%EA%B3%B5%ED%95%991_%EC%8B%A4%EC%8A%B51_2019732013_%EB%B0%95%EB%AF%BC%ED%98%81.ipynb\" target=\"_parent\"><img src=\"https://colab.research.google.com/assets/colab-badge.svg\" alt=\"Open In Colab\"/></a>"
      ]
    },
    {
      "cell_type": "markdown",
      "source": [
        "######굵게6\n",
        "#####굵게5\n",
        "####굵게4\n",
        "###굵게3\n",
        "##굵게2\n",
        "#굵게1\n",
        "\n",
        "**진하게**  \n",
        "__밑줄__  \n",
        "~~취소~~  \n",
        "*기울임*  \n",
        "*기울임*  \n",
        "`인라인코드`  \n",
        "문장 줄바꿈 안함  \n",
        "문장  \n",
        "줄바꿈  \n",
        "함  \n",
        ">들여쓰기 1단\n",
        ">>들여쓰기 2단  \n",
        "\n",
        "```import something\n",
        "a = 10\n",
        "print(a)\n",
        "if a>10:\n",
        "print(a)\n",
        "```  \n",
        "$\\begin{matrix}1&2\\\\3&4\\\\ \\end{matrix}$\n",
        "$\\begin{pmatrix}1&2\\\\3&4\\\\ \\end{pmatrix}$\n",
        "$\\begin{bmatrix}1&2\\\\3&4\\\\ \\end{bmatrix}$\n",
        "$\\begin{Bmatrix}1&2\\\\3&4\\\\ \\end{Bmatrix}$\n",
        "$\\begin{vmatrix}1&2\\\\3&4\\\\ \\end{vmatrix}$\n",
        "$\\begin{Vmatrix}1&2\\\\3&4\\\\ \\end{Vmatrix}$  \n",
        "\n",
        "$\\displaystyle\\lim_{s→∞}{s^2}$\n",
        "$\\displaystyle\\sum_{i=o}^{∞}{(y_i-t_i)^2}$   \n",
        "문장내 $\\frac{1+s}{s(s+2)}$ 삽입  \n",
        "$$\\frac{1+s}{s(s+2)}$$\n",
        "***\n",
        "$$f(x)=ax^2+bx+c$$\n",
        "$$g(x) = Ax^4 $$  \n",
        "\n",
        "#사진\n",
        "![이미지 설명 문구](https://i.esdrop.com/d/Zklkfna5T3.jpg)  \n",
        "#체크박스\n",
        "* [ ] 비어있는 체크박스\n",
        "* [x] 체크된 체크박스  \n",
        "#하이퍼링크\n",
        "[바로가기](hrrp://google.com)  \n",
        "<http://google.com>  \n",
        "#수평선\n",
        "***\n",
        "***\n",
        "#표\n",
        "| 1열 | 2열 | 3열 |\n",
        "| :-------: | :----: | :---: |\n",
        "| 바디1 | 바디2| 바디3 |\n",
        "| 바디4 | 바디5 | 바디6 |   \n",
        "\n",
        "#목록\n",
        "* 사과\n",
        "* 오렌지  \n",
        "  + 딸기\n",
        "  + 자두\n",
        "\n",
        "- 포도\n",
        "- 바나나\n",
        "1. 참외\n",
        "2. 수박\n",
        "\n",
        "\n"
      ],
      "metadata": {
        "id": "HDVPTUDJrjiJ"
      }
    }
  ]
}